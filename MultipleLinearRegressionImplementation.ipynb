{
  "nbformat": 4,
  "nbformat_minor": 0,
  "metadata": {
    "colab": {
      "provenance": [],
      "authorship_tag": "ABX9TyOIpi6H08jAAtYKh7UccH7j",
      "include_colab_link": true
    },
    "kernelspec": {
      "name": "python3",
      "display_name": "Python 3"
    },
    "language_info": {
      "name": "python"
    }
  },
  "cells": [
    {
      "cell_type": "markdown",
      "metadata": {
        "id": "view-in-github",
        "colab_type": "text"
      },
      "source": [
        "<a href=\"https://colab.research.google.com/github/tselane2110/ML-Specialization/blob/main/MultipleLinearRegressionImplementation.ipynb\" target=\"_parent\"><img src=\"https://colab.research.google.com/assets/colab-badge.svg\" alt=\"Open In Colab\"/></a>"
      ]
    },
    {
      "cell_type": "markdown",
      "source": [
        "Note: This notebook consists of the implementation of MLR with and without regularization"
      ],
      "metadata": {
        "id": "pkBVOYsTkOwo"
      }
    },
    {
      "cell_type": "markdown",
      "source": [
        "For the **stopping criteria** of the recursive gradient descent algorithm, we are checking if the difference between the cost functions for the last 20 iterations is greater than the given threshold (1e-3 or 0.001).\n",
        "If it is greater than the threshold, that means that our model hasnt converged yet, i.e., it is still improving. If not, then it has converged!\n",
        "\n",
        "- Also, you can check the total number of iterations our model took to converge above the \"learning curve\" plot :))"
      ],
      "metadata": {
        "id": "CYqg25mtyLlE"
      }
    },
    {
      "cell_type": "markdown",
      "source": [
        "# 1. Multiple Linear Regression (MLR) without regularization"
      ],
      "metadata": {
        "id": "Bpa6wfFj5CRw"
      }
    },
    {
      "cell_type": "code",
      "source": [
        "import numpy as np\n",
        "import matplotlib.pyplot as plt\n",
        "\n",
        "class MLR():\n",
        "  def fit_data(self, x, y):\n",
        "    '''\n",
        "    x -> list of training examples (2d array)\n",
        "    y -> list of actual outputs (1d array)\n",
        "    m -> number of training examples (int)\n",
        "    n -> number of features (int)\n",
        "    w -> list of weights/coefficients of size n  (1d array)\n",
        "    b -> bias/intercept (int)\n",
        "    y_hat -> predicted output (1d array)\n",
        "    cost -> dictionary :\n",
        "            cost_w -> Contains lists of cost values for each weight w[i] across all iterations.\n",
        "            cost_b -> Contains cost values for the bias term b across all iterations.\n",
        "    cost_function -> list containing cost functions for each iteration\n",
        "    number_of_iterations = min no of times we want our gradient descent to execute/run\n",
        "    '''\n",
        "    self.x = x\n",
        "    self.y = y\n",
        "    self.m = len(x)\n",
        "    self.n = x.shape[1]\n",
        "    self.w = np.zeros(self.n)\n",
        "    self.b = 0\n",
        "    self.y_hat = None\n",
        "    self.cost = {\n",
        "        'cost_w' : [],\n",
        "        'cost_b' : []\n",
        "    }\n",
        "    self.cost_function = []\n",
        "    self.number_of_iterations = 40\n",
        "\n",
        "    # calling recursive GD\n",
        "    self.recursiveGD()\n",
        "\n",
        "  def predict(self, x):\n",
        "    '''\n",
        "    x -> training/testing data (2d array)\n",
        "    '''\n",
        "\n",
        "    y_hat = []\n",
        "    for i in range(len(x)):\n",
        "      y_hat.append(np.dot(self.w, x[i]) + self.b)\n",
        "    return y_hat\n",
        "\n",
        "  def error_w(self, j):\n",
        "    error = 0\n",
        "    for i in range(len(self.y_hat)):\n",
        "      error += (self.y_hat[i] - self.y[i])*self.x[i][j]\n",
        "    return error\n",
        "\n",
        "  def error_b(self):\n",
        "    error = 0\n",
        "    for i in range(len(self.y_hat)):\n",
        "      error += (self.y_hat[i] - self.y[i])\n",
        "    return error\n",
        "\n",
        "  def cost_w(self):\n",
        "    cost_w = []\n",
        "    for i in range(self.n):\n",
        "      error = self.error_w(i)\n",
        "      cost_w.append((1/self.m) * error)\n",
        "    return cost_w\n",
        "\n",
        "  def cost_b(self):\n",
        "    cost_b = (1/self.m) * self.error_b()\n",
        "    return cost_b\n",
        "\n",
        "  def cost_function_lc(self):\n",
        "    result = 0\n",
        "    error = 0\n",
        "    for i in range(len(self.y_hat)):\n",
        "      error = error + ((self.y_hat[i] - self.y[i])**2)\n",
        "    result = (1/(2*self.m)) * error\n",
        "    return result\n",
        "\n",
        "  def plot_learningCurve(self):\n",
        "    # printing the total number of iterations\n",
        "\n",
        "    print(\"total number of iterations: \", len(self.cost_function))\n",
        "    plt.plot(range(len(self.cost_function)), self.cost_function, label='Learning Curve')  # Plot cost_function vs # of iterations\n",
        "    plt.xlabel('Number of Iterations')\n",
        "    plt.ylabel('Cost Function J(w, b)')\n",
        "    plt.title('Learning Curve ')\n",
        "    plt.legend()\n",
        "    plt.show()\n",
        "\n",
        "  def abs_diff(self, a, b):\n",
        "\n",
        "    # abs_diff stands for absolute difference\n",
        "    result = abs(a-b)\n",
        "    return result\n",
        "\n",
        "  def stopping_criteria_check(self, threshold):\n",
        "    '''\n",
        "    Need to check that the cost function for the last 20 iterations has converged\n",
        "    Also verifying that we have calculated the cost atleast 40 times, idk for what reason but yea (I do know, i mean that's the min number\n",
        "    of iterations Im aiming for)\n",
        "    '''\n",
        "    cost = self.cost_function\n",
        "\n",
        "    if len(cost) >= self.number_of_iterations :\n",
        "      for i in range(-21, -1, 1):\n",
        "        if self.abs_diff(cost[i], cost[i+1]) > threshold:\n",
        "          return 1\n",
        "        else:\n",
        "          return 0\n",
        "\n",
        "    else:\n",
        "      return 1\n",
        "\n",
        "  def recursiveGD(self):\n",
        "    # call the predict function to make predictions on updated weights\n",
        "    self.y_hat = self.predict(self.x)\n",
        "\n",
        "    # call the cost function to calculate the cost for the weights and the bias\n",
        "    self.cost['cost_w'].append(self.cost_w())\n",
        "    self.cost['cost_b'].append(self.cost_b())\n",
        "\n",
        "    # calculating cost function to plot our learning curve afterwards\n",
        "    self.cost_function.append(self.cost_function_lc())\n",
        "\n",
        "    # call the gradient descent to get the best parameters (weights + bias)\n",
        "    self.gradient_descent()\n",
        "\n",
        "  def gradient_descent(self):\n",
        "    alpha = 0.09\n",
        "    threshold = 1e-3 # 0.001\n",
        "\n",
        "    # stopping criteria\n",
        "    sc = self.stopping_criteria_check(threshold)\n",
        "    if sc == 0:\n",
        "      self.plot_learningCurve()\n",
        "      return\n",
        "\n",
        "    # updating w\n",
        "    for i in range(self.n):\n",
        "      self.w[i] = self.w[i] - alpha * self.cost['cost_w'][-1][i]\n",
        "\n",
        "    # updating b\n",
        "    self.b = self.b - alpha * self.cost['cost_b'][-1]\n",
        "\n",
        "    # calling recursive GD\n",
        "    self.recursiveGD()\n",
        "\n"
      ],
      "metadata": {
        "id": "Y_qL78zT5CDZ"
      },
      "execution_count": null,
      "outputs": []
    },
    {
      "cell_type": "markdown",
      "source": [
        "### - Testing MLR"
      ],
      "metadata": {
        "id": "Ps9HWcrFIqmw"
      }
    },
    {
      "cell_type": "code",
      "source": [
        "model = MLR()"
      ],
      "metadata": {
        "id": "x-JKOiiMCSF-"
      },
      "execution_count": null,
      "outputs": []
    },
    {
      "cell_type": "code",
      "source": [
        "import numpy as np\n",
        "import pandas as pd\n",
        "from sklearn.preprocessing import StandardScaler\n",
        "\n",
        "# Settings for reproducibility and dataset size\n",
        "np.random.seed(42)\n",
        "n_samples = 100  # Number of data points\n",
        "n_features = 5   # Number of features\n",
        "\n",
        "# Step 1: Generate feature data with random values\n",
        "X = np.random.rand(n_samples, n_features) * 1000  # Random values from 0 to 10\n",
        "\n",
        "# Step 2: Define weights and bias for the linear relationship\n",
        "weights = np.array([1.5, -2.0, 3.0, -4.5, 2.0])  # Example weights\n",
        "bias = 5  # Example bias term\n",
        "\n",
        "# Step 3: Create the target variable with a linear combination of features + noise\n",
        "noise = np.random.randn(n_samples) * 0.5  # Small random noise\n",
        "y = X.dot(weights) + bias + noise\n",
        "\n",
        "# Step 4: Scale and normalize features\n",
        "scaler = StandardScaler()\n",
        "X_scaled = scaler.fit_transform(X)\n",
        "\n",
        "# Step 5: Combine features and target into a DataFrame\n",
        "columns = [f\"Feature_{i+1}\" for i in range(n_features)]\n",
        "df = pd.DataFrame(X_scaled, columns=columns)\n",
        "df[\"Target\"] = y\n",
        "\n",
        "# Display the first few rows of the dataset\n",
        "print(df.head())\n"
      ],
      "metadata": {
        "colab": {
          "base_uri": "https://localhost:8080/"
        },
        "id": "O8T6ucWiIzmv",
        "outputId": "db4c9821-7434-46d7-8af6-39824ae40839"
      },
      "execution_count": null,
      "outputs": [
        {
          "output_type": "stream",
          "name": "stdout",
          "text": [
            "   Feature_1  Feature_2  Feature_3  Feature_4  Feature_5       Target\n",
            "0  -0.439808   1.425870   0.832798   0.265310  -0.971652 -1520.391629\n",
            "1  -1.178208  -1.565503   1.290222   0.273730   0.828999  1433.418682\n",
            "2  -1.635718   1.490198   1.175225  -1.058834  -0.887479     1.984108\n",
            "3  -1.085598  -0.740579   0.126331  -0.306115  -0.530632  -115.691182\n",
            "4   0.362002  -1.292682  -0.666636  -0.530907   0.007034   783.288033\n"
          ]
        }
      ]
    },
    {
      "cell_type": "code",
      "source": [
        "from sklearn.model_selection import train_test_split\n",
        "\n",
        "# Assuming df is your DataFrame and 'Target' is the name of your target column\n",
        "X = df.drop('Target', axis=1)  # Features\n",
        "y = df['Target']                # Target variable\n",
        "\n",
        "# Split the dataset into training and testing sets\n",
        "X_train, X_test, y_train, y_test = train_test_split(X, y, test_size=0.2, random_state=42)\n",
        "\n",
        "# Display the sizes of the resulting sets\n",
        "print(f\"Training set size: {X_train.shape[0]}\")\n",
        "print(f\"Testing set size: {X_test.shape[0]}\")\n"
      ],
      "metadata": {
        "colab": {
          "base_uri": "https://localhost:8080/"
        },
        "id": "x1GwuErqMku6",
        "outputId": "15ed8a22-aefd-4404-e9f5-590cf71c0b0c"
      },
      "execution_count": null,
      "outputs": [
        {
          "output_type": "stream",
          "name": "stdout",
          "text": [
            "Training set size: 80\n",
            "Testing set size: 20\n"
          ]
        }
      ]
    },
    {
      "cell_type": "code",
      "source": [
        "model.fit_data(np.array(X_train), np.array(y_train))"
      ],
      "metadata": {
        "colab": {
          "base_uri": "https://localhost:8080/",
          "height": 489
        },
        "id": "ETdGVbipR_rk",
        "outputId": "0595152b-2359-40dd-c40c-6fcfedaa9c43"
      },
      "execution_count": null,
      "outputs": [
        {
          "output_type": "stream",
          "name": "stdout",
          "text": [
            "total number of iterations:  155\n"
          ]
        },
        {
          "output_type": "display_data",
          "data": {
            "text/plain": [
              "<Figure size 640x480 with 1 Axes>"
            ],
            "image/png": "[encoded data removed]"
          },
          "metadata": {}
        }
      ]
    },
    {
      "cell_type": "code",
      "source": [
        "y_hat = model.predict(np.array(X_test))"
      ],
      "metadata": {
        "id": "FDTzmNcYSlv7"
      },
      "execution_count": null,
      "outputs": []
    },
    {
      "cell_type": "code",
      "source": [
        "error = y_hat - y_test\n",
        "error"
      ],
      "metadata": {
        "colab": {
          "base_uri": "https://localhost:8080/",
          "height": 711
        },
        "id": "hkAvIb2PWXV-",
        "outputId": "5866b09f-48d6-4614-e879-98bb2de62ac0"
      },
      "execution_count": null,
      "outputs": [
        {
          "output_type": "execute_result",
          "data": {
            "text/plain": [
              "83    0.232945\n",
              "53    0.068883\n",
              "70    0.143679\n",
              "45    1.013810\n",
              "44    0.463595\n",
              "39   -0.547390\n",
              "22    0.207239\n",
              "80   -0.151808\n",
              "10    0.919114\n",
              "0     0.008176\n",
              "18    0.315101\n",
              "30   -1.089349\n",
              "73    0.793791\n",
              "33   -0.285644\n",
              "90   -0.190161\n",
              "4     0.402255\n",
              "76    0.459074\n",
              "77   -0.295641\n",
              "12    0.281352\n",
              "31   -0.030269\n",
              "Name: Target, dtype: float64"
            ],
            "text/html": [
              "<div>\n",
              "<style scoped>\n",
              "    .dataframe tbody tr th:only-of-type {\n",
              "        vertical-align: middle;\n",
              "    }\n",
              "\n",
              "    .dataframe tbody tr th {\n",
              "        vertical-align: top;\n",
              "    }\n",
              "\n",
              "    .dataframe thead th {\n",
              "        text-align: right;\n",
              "    }\n",
              "</style>\n",
              "<table border=\"1\" class=\"dataframe\">\n",
              "  <thead>\n",
              "    <tr style=\"text-align: right;\">\n",
              "      <th></th>\n",
              "      <th>Target</th>\n",
              "    </tr>\n",
              "  </thead>\n",
              "  <tbody>\n",
              "    <tr>\n",
              "      <th>83</th>\n",
              "      <td>0.232945</td>\n",
              "    </tr>\n",
              "    <tr>\n",
              "      <th>53</th>\n",
              "      <td>0.068883</td>\n",
              "    </tr>\n",
              "    <tr>\n",
              "      <th>70</th>\n",
              "      <td>0.143679</td>\n",
              "    </tr>\n",
              "    <tr>\n",
              "      <th>45</th>\n",
              "      <td>1.013810</td>\n",
              "    </tr>\n",
              "    <tr>\n",
              "      <th>44</th>\n",
              "      <td>0.463595</td>\n",
              "    </tr>\n",
              "    <tr>\n",
              "      <th>39</th>\n",
              "      <td>-0.547390</td>\n",
              "    </tr>\n",
              "    <tr>\n",
              "      <th>22</th>\n",
              "      <td>0.207239</td>\n",
              "    </tr>\n",
              "    <tr>\n",
              "      <th>80</th>\n",
              "      <td>-0.151808</td>\n",
              "    </tr>\n",
              "    <tr>\n",
              "      <th>10</th>\n",
              "      <td>0.919114</td>\n",
              "    </tr>\n",
              "    <tr>\n",
              "      <th>0</th>\n",
              "      <td>0.008176</td>\n",
              "    </tr>\n",
              "    <tr>\n",
              "      <th>18</th>\n",
              "      <td>0.315101</td>\n",
              "    </tr>\n",
              "    <tr>\n",
              "      <th>30</th>\n",
              "      <td>-1.089349</td>\n",
              "    </tr>\n",
              "    <tr>\n",
              "      <th>73</th>\n",
              "      <td>0.793791</td>\n",
              "    </tr>\n",
              "    <tr>\n",
              "      <th>33</th>\n",
              "      <td>-0.285644</td>\n",
              "    </tr>\n",
              "    <tr>\n",
              "      <th>90</th>\n",
              "      <td>-0.190161</td>\n",
              "    </tr>\n",
              "    <tr>\n",
              "      <th>4</th>\n",
              "      <td>0.402255</td>\n",
              "    </tr>\n",
              "    <tr>\n",
              "      <th>76</th>\n",
              "      <td>0.459074</td>\n",
              "    </tr>\n",
              "    <tr>\n",
              "      <th>77</th>\n",
              "      <td>-0.295641</td>\n",
              "    </tr>\n",
              "    <tr>\n",
              "      <th>12</th>\n",
              "      <td>0.281352</td>\n",
              "    </tr>\n",
              "    <tr>\n",
              "      <th>31</th>\n",
              "      <td>-0.030269</td>\n",
              "    </tr>\n",
              "  </tbody>\n",
              "</table>\n",
              "</div><br><label><b>dtype:</b> float64</label>"
            ]
          },
          "metadata": {},
          "execution_count": 20
        }
      ]
    },
    {
      "cell_type": "code",
      "source": [
        "import numpy as np\n",
        "import matplotlib.pyplot as plt\n",
        "from sklearn.metrics import mean_squared_error, r2_score\n",
        "\n",
        "# Calculate metrics\n",
        "mse = mean_squared_error(y_test, y_hat)\n",
        "r2 = r2_score(y_test, y_hat)\n",
        "\n",
        "# Print metrics\n",
        "print(f\"Mean Squared Error: {mse:.2f}\")\n",
        "print(f\"R^2 Score: {r2:.2f}\")\n"
      ],
      "metadata": {
        "colab": {
          "base_uri": "https://localhost:8080/"
        },
        "id": "z5nFlMEYbJIo",
        "outputId": "9b5ba6fa-48f0-42c4-8c0c-893d0a5d7d11"
      },
      "execution_count": null,
      "outputs": [
        {
          "output_type": "stream",
          "name": "stdout",
          "text": [
            "Mean Squared Error: 0.26\n",
            "R^2 Score: 1.00\n"
          ]
        }
      ]
    },
    {
      "cell_type": "markdown",
      "source": [
        "## 2. Multiple Linear Regression With Regularization (MLR_Reg)"
      ],
      "metadata": {
        "id": "tiHuHQDHbda5"
      }
    },
    {
      "cell_type": "code",
      "source": [
        "import numpy as np\n",
        "import matplotlib.pyplot as plt\n",
        "\n",
        "class MLR_Regularized():\n",
        "  def fit_data(self, x, y):\n",
        "    '''\n",
        "    x -> list of training examples (2d array)\n",
        "    y -> list of actual outputs (1d array)\n",
        "    m -> number of training examples (int)\n",
        "    n -> number of features (int)\n",
        "    w -> list of weights/coefficients of size n  (1d array)\n",
        "    b -> bias/intercept (int)\n",
        "    y_hat -> predicted output (1d array)\n",
        "    cost -> dictionary :\n",
        "            cost_w -> Contains lists of cost values for each weight w[i] across all iterations.\n",
        "            cost_b -> Contains cost values for the bias term b across all iterations.\n",
        "    cost_function -> list containing cost functions for each iteration\n",
        "    number_of_iterations = min no of times we want our gradient descent to execute/run\n",
        "    lmbd -> lambda, hyperparameter for regularization\n",
        "    '''\n",
        "    self.x = x\n",
        "    self.y = y\n",
        "    self.m = len(x)\n",
        "    self.n = x.shape[1]\n",
        "    self.w = np.zeros(self.n)\n",
        "    self.b = 0\n",
        "    self.y_hat = None\n",
        "    self.cost = {\n",
        "        'cost_w' : [],\n",
        "        'cost_b' : []\n",
        "    }\n",
        "    self.cost_function = []\n",
        "    self.number_of_iterations = 40\n",
        "    # hyperparameter lambda\n",
        "    self.lmbd = 0.007\n",
        "\n",
        "    # calling recursive GD\n",
        "    self.recursiveGD()\n",
        "\n",
        "  def predict(self, x):\n",
        "    '''\n",
        "    x -> training/testing data (2d array)\n",
        "    '''\n",
        "\n",
        "    y_hat = []\n",
        "    for i in range(len(x)):\n",
        "      y_hat.append(np.dot(self.w, x[i]) + self.b)\n",
        "    return y_hat\n",
        "\n",
        "  def error_w(self, j):\n",
        "    error = 0\n",
        "    for i in range(len(self.y_hat)):\n",
        "      error += (self.y_hat[i] - self.y[i])*self.x[i][j]\n",
        "    return error\n",
        "\n",
        "  def error_b(self):\n",
        "    error = 0\n",
        "    for i in range(len(self.y_hat)):\n",
        "      error += (self.y_hat[i] - self.y[i])\n",
        "    return error\n",
        "\n",
        "  def cost_w(self):\n",
        "    '''\n",
        "    reg_term -> regularization term\n",
        "    lmbd -> lambda\n",
        "    '''\n",
        "    cost_w = []\n",
        "    for j in range(self.n):\n",
        "      error = self.error_w(j)\n",
        "      reg_term = (self.lmbd/self.m) * self.w[j]\n",
        "      cost_w.append(((1/self.m) * error) + reg_term)\n",
        "    return cost_w\n",
        "\n",
        "  def cost_b(self):\n",
        "    cost_b = (1/self.m) * self.error_b()\n",
        "    return cost_b\n",
        "\n",
        "  def cost_function_lc(self):\n",
        "    \"\"\"\n",
        "    lc -> learning curve\n",
        "    ss_weights -> sum of square of weights\n",
        "    \"\"\"\n",
        "    result = 0\n",
        "    ss_weights = 0\n",
        "    error = 0\n",
        "\n",
        "    # getting sum of square of all weights:\n",
        "    for i in range(self.n):\n",
        "      ss_weights += (self.w[i]**2)\n",
        "\n",
        "    for i in range(len(self.y_hat)):\n",
        "      error = error + ((self.y_hat[i] - self.y[i])**2)\n",
        "    result = (1/(2*self.m)) * error\n",
        "    reg_term = (self.lmbd/(2*self.m)) * ss_weights\n",
        "    result += reg_term\n",
        "    return result\n",
        "\n",
        "  def plot_learningCurve(self):\n",
        "    # printing the total number of iterations\n",
        "\n",
        "    print(\"total number of iterations: \", len(self.cost_function))\n",
        "    plt.plot(range(len(self.cost_function)), self.cost_function, label='Learning Curve')  # Plot cost_function vs # of iterations\n",
        "    plt.xlabel('Number of Iterations')\n",
        "    plt.ylabel('Cost Function J(w, b)')\n",
        "    plt.title('Learning Curve ')\n",
        "    plt.legend()\n",
        "    plt.show()\n",
        "\n",
        "  def abs_diff(self, a, b):\n",
        "\n",
        "    # abs_diff stands for absolute difference\n",
        "    result = abs(a-b)\n",
        "    return result\n",
        "\n",
        "  def stopping_criteria_check(self, threshold):\n",
        "    '''\n",
        "    Need to check that the cost function for the last 20 iterations has converged\n",
        "    Also verifying that we have calculated the cost atleast 40 times, idk for what reason but yea (I do know, i mean that's the min number\n",
        "    of iterations Im aiming for)\n",
        "    '''\n",
        "    cost = self.cost_function\n",
        "\n",
        "    if len(cost) >= self.number_of_iterations :\n",
        "      for i in range(-21, -1, 1):\n",
        "        if self.abs_diff(cost[i], cost[i+1]) > threshold:\n",
        "          return 1\n",
        "        else:\n",
        "          return 0\n",
        "\n",
        "    else:\n",
        "      return 1\n",
        "\n",
        "  def recursiveGD(self):\n",
        "    # call the predict function to make predictions on updated weights\n",
        "    self.y_hat = self.predict(self.x)\n",
        "\n",
        "    # call the cost function to calculate the cost for the weights and the bias\n",
        "    self.cost['cost_w'].append(self.cost_w())\n",
        "    self.cost['cost_b'].append(self.cost_b())\n",
        "\n",
        "    # calculating cost function to plot our learning curve afterwards\n",
        "    self.cost_function.append(self.cost_function_lc())\n",
        "\n",
        "    # call the gradient descent to get the best parameters (weights + bias)\n",
        "    self.gradient_descent()\n",
        "\n",
        "  def gradient_descent(self):\n",
        "    alpha = 0.06\n",
        "    threshold = 1e-3 # 0.001\n",
        "\n",
        "    # stopping criteria\n",
        "    sc = self.stopping_criteria_check(threshold)\n",
        "    if sc == 0:\n",
        "      self.plot_learningCurve()\n",
        "      return\n",
        "\n",
        "    # updating w\n",
        "    for i in range(self.n):\n",
        "      self.w[i] = self.w[i] - alpha * self.cost['cost_w'][-1][i]\n",
        "\n",
        "    # updating b\n",
        "    self.b = self.b - alpha * self.cost['cost_b'][-1]\n",
        "\n",
        "    # calling recursive GD\n",
        "    self.recursiveGD()\n"
      ],
      "metadata": {
        "id": "L5IQydwDbzKP"
      },
      "execution_count": null,
      "outputs": []
    },
    {
      "cell_type": "markdown",
      "source": [
        "### - Testing MLR_Reg"
      ],
      "metadata": {
        "id": "dVo2mdAPbrV3"
      }
    },
    {
      "cell_type": "code",
      "source": [
        "model = MLR_Regularized()"
      ],
      "metadata": {
        "id": "t_VzPNRWbzwO"
      },
      "execution_count": null,
      "outputs": []
    },
    {
      "cell_type": "code",
      "source": [
        "model.fit_data(np.array(X_train), np.array(y_train))"
      ],
      "metadata": {
        "id": "gNEQtAA-bzsp",
        "colab": {
          "base_uri": "https://localhost:8080/",
          "height": 489
        },
        "outputId": "262c2f9a-eb51-41fa-b5b7-7d57b73a34c2"
      },
      "execution_count": null,
      "outputs": [
        {
          "output_type": "stream",
          "name": "stdout",
          "text": [
            "total number of iterations:  220\n"
          ]
        },
        {
          "output_type": "display_data",
          "data": {
            "text/plain": [
              "<Figure size 640x480 with 1 Axes>"
            ],
            "image/png": "[encoded data removed]"
          },
          "metadata": {}
        }
      ]
    },
    {
      "cell_type": "code",
      "source": [
        "y_hat = model.predict(np.array(X_test))"
      ],
      "metadata": {
        "id": "RLjwVADJbzqZ"
      },
      "execution_count": null,
      "outputs": []
    },
    {
      "cell_type": "code",
      "source": [
        "error = y_hat - y_test\n",
        "error"
      ],
      "metadata": {
        "id": "odBPSHTBbzog",
        "colab": {
          "base_uri": "https://localhost:8080/",
          "height": 711
        },
        "outputId": "10b10217-2763-4574-d953-a39b5d8a3933"
      },
      "execution_count": null,
      "outputs": [
        {
          "output_type": "execute_result",
          "data": {
            "text/plain": [
              "83    0.228416\n",
              "53   -0.043718\n",
              "70    0.098798\n",
              "45    1.315696\n",
              "44    0.493075\n",
              "39   -0.469368\n",
              "22    0.210784\n",
              "80    0.220904\n",
              "10    0.891907\n",
              "0     0.200951\n",
              "18    0.311742\n",
              "30   -1.362331\n",
              "73    0.763892\n",
              "33   -0.643100\n",
              "90    0.072839\n",
              "4     0.271346\n",
              "76    0.660275\n",
              "77   -0.343144\n",
              "12    0.172791\n",
              "31   -0.231115\n",
              "Name: Target, dtype: float64"
            ],
            "text/html": [
              "<div>\n",
              "<style scoped>\n",
              "    .dataframe tbody tr th:only-of-type {\n",
              "        vertical-align: middle;\n",
              "    }\n",
              "\n",
              "    .dataframe tbody tr th {\n",
              "        vertical-align: top;\n",
              "    }\n",
              "\n",
              "    .dataframe thead th {\n",
              "        text-align: right;\n",
              "    }\n",
              "</style>\n",
              "<table border=\"1\" class=\"dataframe\">\n",
              "  <thead>\n",
              "    <tr style=\"text-align: right;\">\n",
              "      <th></th>\n",
              "      <th>Target</th>\n",
              "    </tr>\n",
              "  </thead>\n",
              "  <tbody>\n",
              "    <tr>\n",
              "      <th>83</th>\n",
              "      <td>0.228416</td>\n",
              "    </tr>\n",
              "    <tr>\n",
              "      <th>53</th>\n",
              "      <td>-0.043718</td>\n",
              "    </tr>\n",
              "    <tr>\n",
              "      <th>70</th>\n",
              "      <td>0.098798</td>\n",
              "    </tr>\n",
              "    <tr>\n",
              "      <th>45</th>\n",
              "      <td>1.315696</td>\n",
              "    </tr>\n",
              "    <tr>\n",
              "      <th>44</th>\n",
              "      <td>0.493075</td>\n",
              "    </tr>\n",
              "    <tr>\n",
              "      <th>39</th>\n",
              "      <td>-0.469368</td>\n",
              "    </tr>\n",
              "    <tr>\n",
              "      <th>22</th>\n",
              "      <td>0.210784</td>\n",
              "    </tr>\n",
              "    <tr>\n",
              "      <th>80</th>\n",
              "      <td>0.220904</td>\n",
              "    </tr>\n",
              "    <tr>\n",
              "      <th>10</th>\n",
              "      <td>0.891907</td>\n",
              "    </tr>\n",
              "    <tr>\n",
              "      <th>0</th>\n",
              "      <td>0.200951</td>\n",
              "    </tr>\n",
              "    <tr>\n",
              "      <th>18</th>\n",
              "      <td>0.311742</td>\n",
              "    </tr>\n",
              "    <tr>\n",
              "      <th>30</th>\n",
              "      <td>-1.362331</td>\n",
              "    </tr>\n",
              "    <tr>\n",
              "      <th>73</th>\n",
              "      <td>0.763892</td>\n",
              "    </tr>\n",
              "    <tr>\n",
              "      <th>33</th>\n",
              "      <td>-0.643100</td>\n",
              "    </tr>\n",
              "    <tr>\n",
              "      <th>90</th>\n",
              "      <td>0.072839</td>\n",
              "    </tr>\n",
              "    <tr>\n",
              "      <th>4</th>\n",
              "      <td>0.271346</td>\n",
              "    </tr>\n",
              "    <tr>\n",
              "      <th>76</th>\n",
              "      <td>0.660275</td>\n",
              "    </tr>\n",
              "    <tr>\n",
              "      <th>77</th>\n",
              "      <td>-0.343144</td>\n",
              "    </tr>\n",
              "    <tr>\n",
              "      <th>12</th>\n",
              "      <td>0.172791</td>\n",
              "    </tr>\n",
              "    <tr>\n",
              "      <th>31</th>\n",
              "      <td>-0.231115</td>\n",
              "    </tr>\n",
              "  </tbody>\n",
              "</table>\n",
              "</div><br><label><b>dtype:</b> float64</label>"
            ]
          },
          "metadata": {},
          "execution_count": 26
        }
      ]
    },
    {
      "cell_type": "code",
      "source": [
        "import numpy as np\n",
        "import matplotlib.pyplot as plt\n",
        "from sklearn.metrics import mean_squared_error, r2_score\n",
        "\n",
        "# Calculate metrics\n",
        "mse = mean_squared_error(y_test, y_hat)\n",
        "r2 = r2_score(y_test, y_hat)\n",
        "\n",
        "# Print metrics\n",
        "print(f\"Mean Squared Error: {mse:.2f}\")\n",
        "print(f\"R^2 Score: {r2:.2f}\")\n"
      ],
      "metadata": {
        "colab": {
          "base_uri": "https://localhost:8080/"
        },
        "id": "Ec5UjQlshh-J",
        "outputId": "a896b413-d866-4c81-e59f-579b543fe19e"
      },
      "execution_count": null,
      "outputs": [
        {
          "output_type": "stream",
          "name": "stdout",
          "text": [
            "Mean Squared Error: 0.34\n",
            "R^2 Score: 1.00\n"
          ]
        }
      ]
    },
    {
      "cell_type": "markdown",
      "source": [
        "### Testing the Linear Regression model from sklearn"
      ],
      "metadata": {
        "id": "RhI82ZjFbuud"
      }
    },
    {
      "cell_type": "code",
      "source": [
        "import numpy as np\n",
        "import matplotlib.pyplot as plt\n",
        "from sklearn.model_selection import train_test_split\n",
        "from sklearn.linear_model import LinearRegression\n",
        "from sklearn.metrics import mean_squared_error, r2_score\n",
        "\n",
        "# Create a linear regression model\n",
        "model = LinearRegression()\n",
        "\n",
        "# Train the model\n",
        "model.fit(X_train, y_train)\n",
        "\n",
        "# Make predictions\n",
        "y_pred = model.predict(X_test)\n",
        "\n",
        "# Calculate metrics\n",
        "mse = mean_squared_error(y_test, y_pred)\n",
        "r2 = r2_score(y_test, y_pred)\n",
        "\n",
        "# Print metrics\n",
        "print(f\"Mean Squared Error: {mse:.2f}\")\n",
        "print(f\"R^2 Score: {r2:.2f}\")\n"
      ],
      "metadata": {
        "id": "Y9kuMdQbbc7q",
        "colab": {
          "base_uri": "https://localhost:8080/"
        },
        "outputId": "af87c480-ccd8-420d-8b95-7570ba544295"
      },
      "execution_count": null,
      "outputs": [
        {
          "output_type": "stream",
          "name": "stdout",
          "text": [
            "Mean Squared Error: 0.24\n",
            "R^2 Score: 1.00\n"
          ]
        }
      ]
    },
    {
      "cell_type": "code",
      "source": [],
      "metadata": {
        "id": "PfYcT6ilbBXM"
      },
      "execution_count": null,
      "outputs": []
    }
  ]
}