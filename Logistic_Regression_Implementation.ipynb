{
  "nbformat": 4,
  "nbformat_minor": 0,
  "metadata": {
    "colab": {
      "provenance": [],
      "authorship_tag": "ABX9TyNlaaCMQVzsH5KH40cNEW7y",
      "include_colab_link": true
    },
    "kernelspec": {
      "name": "python3",
      "display_name": "Python 3"
    },
    "language_info": {
      "name": "python"
    }
  },
  "cells": [
    {
      "cell_type": "markdown",
      "metadata": {
        "id": "view-in-github",
        "colab_type": "text"
      },
      "source": [
        "<a href=\"https://colab.research.google.com/github/tselane2110/ML-Specialization/blob/main/Logistic_Regression_Implementation.ipynb\" target=\"_parent\"><img src=\"https://colab.research.google.com/assets/colab-badge.svg\" alt=\"Open In Colab\"/></a>"
      ]
    },
    {
      "cell_type": "markdown",
      "source": [
        "## Logistic Regression without Regularization"
      ],
      "metadata": {
        "id": "d6KyKJ0LLRsg"
      }
    },
    {
      "cell_type": "code",
      "execution_count": null,
      "metadata": {
        "id": "cZeB6VqfJryi"
      },
      "outputs": [],
      "source": [
        "import numpy as np\n",
        "import matplotlib.pyplot as plt\n",
        "class LogisticRegression:\n",
        "  def fit_data(self, x, y):\n",
        "    \"\"\"\n",
        "    self.x -> training data (features)\n",
        "    self.y -> training data (labels/target-values/actual-values)\n",
        "    self.m -> no of training examples\n",
        "    self.n -> no of features\n",
        "    self.w -> initializing weights\n",
        "    self.b = 0 # initializing bias\n",
        "    self.y_hat = [] # initializing prediction's list\n",
        "    \"\"\"\n",
        "    self.x = x\n",
        "    self.y = y\n",
        "    self.m = len(self.x) # no of training examples\n",
        "    self.n = self.x.shape[1] # no of features\n",
        "    self.w = np.zeros(self.n) # initializing weights\n",
        "    self.b = 0 # initializing bias\n",
        "    self.y_hat = [] # initializing prediction's list\n",
        "\n"
      ]
    },
    {
      "cell_type": "code",
      "source": [],
      "metadata": {
        "id": "9oHFRSV-LVbI"
      },
      "execution_count": null,
      "outputs": []
    }
  ]
}