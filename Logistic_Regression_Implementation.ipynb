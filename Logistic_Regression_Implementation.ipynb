{
  "nbformat": 4,
  "nbformat_minor": 0,
  "metadata": {
    "colab": {
      "provenance": [],
      "mount_file_id": "https://github.com/tselane2110/ML-Specialization/blob/main/Logistic_Regression_Implementation.ipynb",
      "authorship_tag": "ABX9TyNY0BmwsR5GN2CuKejVgUZM",
      "include_colab_link": true
    },
    "kernelspec": {
      "name": "python3",
      "display_name": "Python 3"
    },
    "language_info": {
      "name": "python"
    }
  },
  "cells": [
    {
      "cell_type": "markdown",
      "metadata": {
        "id": "view-in-github",
        "colab_type": "text"
      },
      "source": [
        "<a href=\"https://colab.research.google.com/github/tselane2110/ML-Specialization/blob/main/Logistic_Regression_Implementation.ipynb\" target=\"_parent\"><img src=\"https://colab.research.google.com/assets/colab-badge.svg\" alt=\"Open In Colab\"/></a>"
      ]
    },
    {
      "cell_type": "markdown",
      "source": [
        "## Logistic Regression without Regularization"
      ],
      "metadata": {
        "id": "d6KyKJ0LLRsg"
      }
    },
    {
      "cell_type": "code",
      "execution_count": 151,
      "metadata": {
        "id": "cZeB6VqfJryi"
      },
      "outputs": [],
      "source": [
        "import numpy as np\n",
        "import matplotlib.pyplot as plt\n",
        "import math\n",
        "class LogisticRegression:\n",
        "  def fit_data(self, x, y):\n",
        "    \"\"\"\n",
        "    self.x -> training data (features)\n",
        "    self.y -> training data (labels/target-values/actual-values)\n",
        "    self.m -> no of training examples\n",
        "    self.n -> no of features\n",
        "    self.w -> initializing weights\n",
        "    self.b -> initializing bias\n",
        "    self.y_hat -> initializing prediction's list\n",
        "    self.cost_rec -> record of cost function of all iterations\n",
        "    self.min_iterations -> minimum number of iterations for our gradient descent\n",
        "    self.prediction_threshold -> if the output of sigmoid function is greater than or equal to this threshold, then y_hat will be 1, else 0\n",
        "    \"\"\"\n",
        "    self.x = x\n",
        "    self.y = y\n",
        "    self.m = len(self.x)\n",
        "    self.n = self.x.shape[1]\n",
        "    self.w = np.zeros(self.n)\n",
        "    self.b = 0\n",
        "    self.y_hat = []\n",
        "    self.cost_rec = []\n",
        "    self.min_iterations = 40\n",
        "    self.prediction_threshold = 0.4\n",
        "\n",
        "    # calling recursive gradient descent\n",
        "    self.recursiveGD()\n",
        "\n",
        "  def predict_training(self, x):\n",
        "    y_hat = []\n",
        "    z = []\n",
        "    e = math.e\n",
        "    for i in range(len(x)):\n",
        "      z.append(np.dot(self.w, x[i]) + self.b)\n",
        "    for i in range(len(z)):\n",
        "      y_hat.append((1/(1+(pow(e, -(z[i]))))))\n",
        "    return y_hat\n",
        "\n",
        "  def predict(self, x):\n",
        "    y_hat = []\n",
        "    z = []\n",
        "    e = math.e\n",
        "    for i in range(len(x)):\n",
        "      z.append(np.dot(self.w, x[i]) + self.b)\n",
        "    for i in range(len(z)):\n",
        "      y_hat.append((1/(1+(pow(e, -(z[i]))))))\n",
        "    for i in range(len(y_hat)):\n",
        "      if y_hat[i] >= self.prediction_threshold:\n",
        "        y_hat[i] = 1\n",
        "      else:\n",
        "        y_hat[i] = 0\n",
        "    return y_hat\n",
        "\n",
        "  def calculate_loss(self, y_hat, y):\n",
        "    loss = []\n",
        "    for i in range(len(y_hat)):\n",
        "      a = -y[i] * math.log(y_hat[i])\n",
        "      b = (1 - y[i]) * math.log(1 - y_hat[i])\n",
        "      loss.append(a-b)\n",
        "    return loss\n",
        "    \"\"\"\n",
        "    loss = []\n",
        "    for i in range(len(y_hat)):\n",
        "      if y[i] == 1:\n",
        "        loss.append(-math.log(y_hat[i]))\n",
        "      else:\n",
        "        loss.append(-math.log(1 - y_hat[i]))\n",
        "    return loss\"\"\"\n",
        "\n",
        "  def calculate_cost(self, loss):\n",
        "    cost = 0\n",
        "    for i in range(len(loss)):\n",
        "      cost += loss[i]\n",
        "    cost *= (1/self.m)\n",
        "    return cost\n",
        "\n",
        "  def abs_diff(self, a, b):\n",
        "    # abs_diff stands for absolute difference\n",
        "    result = abs(a-b)\n",
        "    return result\n",
        "\n",
        "  def stopping_criteria_check(self, threshold):\n",
        "    '''\n",
        "    Need to check that the cost function for the last 20 iterations has converged\n",
        "    Also verifying that we have calculated the cost atleast 40 times, idk for what reason but yea (I do know, i mean that's the min number\n",
        "    of iterations Im aiming for)\n",
        "    '''\n",
        "    cost = self.cost_rec\n",
        "\n",
        "    if len(cost) >= self.min_iterations :\n",
        "      for i in range(-21, -1, 1):\n",
        "        if self.abs_diff(cost[i], cost[i+1]) > threshold:\n",
        "          return 1\n",
        "        else:\n",
        "          return 0\n",
        "\n",
        "    else:\n",
        "      return 1\n",
        "\n",
        "  def plot_learningCurve(self):\n",
        "    # printing the total number of iterations\n",
        "    print(\"total number of iterations: \", len(self.cost_rec))\n",
        "\n",
        "    # plotting the graph\n",
        "    plt.plot(range(len(self.cost_rec)), self.cost_rec, label='Learning Curve')  # Plot cost_function vs # of iterations\n",
        "    plt.xlabel('Number of Iterations')\n",
        "    plt.ylabel('Cost Function J(w, b)')\n",
        "    plt.title('Learning Curve ')\n",
        "    plt.legend()\n",
        "    plt.show()\n",
        "\n",
        "  def calculate_error_w(self, j):\n",
        "    error_wj = 0\n",
        "    for i in range(len(self.y_hat)):\n",
        "      error_wj += (self.y_hat[i] - self.y[i]) * self.x[i][j]\n",
        "    return error_wj\n",
        "\n",
        "  def calculate_error_b(self):\n",
        "    error_b = 0\n",
        "    for i in range(len(self.y_hat)):\n",
        "      error_b += (self.y_hat[i] - self.y[i])\n",
        "    return error_b\n",
        "\n",
        "  def recursiveGD(self):\n",
        "\n",
        "    # making predictions\n",
        "    self.y_hat = self.predict_training(self.x)\n",
        "\n",
        "    # calculate loss\n",
        "    loss = self.calculate_loss(self.y_hat, self.y)\n",
        "\n",
        "    # calculate cost\n",
        "    self.cost_rec.append(self.calculate_cost(loss))\n",
        "\n",
        "    # calling recursive gradient descent\n",
        "    self.gradient_descent()\n",
        "\n",
        "\n",
        "  def gradient_descent(self):\n",
        "    alpha = 0.009\n",
        "    threshold = 1e-4 # 0.001\n",
        "\n",
        "    # stopping criteria\n",
        "    sc = self.stopping_criteria_check(threshold)\n",
        "    if sc == 0:\n",
        "      self.plot_learningCurve()\n",
        "      return\n",
        "\n",
        "    # updating w\n",
        "    for j in range(len(self.w)):\n",
        "      error = self.calculate_error_w(j)\n",
        "      self.w[j] = self.w[j] - (alpha * (1/self.m) * error)\n",
        "\n",
        "    # updating b\n",
        "    error = self.calculate_error_b()\n",
        "    self.b = self.b - (alpha * (1/self.m) * error)\n",
        "\n",
        "    # calling recursive gradient descent\n",
        "    self.recursiveGD()\n",
        "\n"
      ]
    },
    {
      "cell_type": "markdown",
      "source": [
        "### Importing Dataset to test the model"
      ],
      "metadata": {
        "id": "dgely7z4qXEQ"
      }
    },
    {
      "cell_type": "code",
      "source": [
        "import pandas as pd\n",
        "import numpy as np\n",
        "import matplotlib.pyplot as plt\n",
        "%matplotlib inline\n",
        "import seaborn as sns\n",
        "from sklearn.model_selection import train_test_split\n",
        "\n",
        "# change the max number of rows/columns to be displayed in the cell\n",
        "pd.set_option(\"display.max_rows\", 500)\n",
        "\n",
        "# importing dataset\n",
        "df=pd.read_csv(\"/content/drive/MyDrive/Colab Notebooks/MachineLearningSpecialization_AndrewNg/Telco-Customer-Churn.csv\")\n",
        "\n",
        "# encoding\n",
        "df[df.columns]=df[df.columns].apply(lambda col:pd.Categorical(col).codes)\n",
        "\n",
        "# dropping extra columns\n",
        "df=df.drop(columns=[\"gender\",\"TotalCharges\", \"StreamingMovies\", \"StreamingTV\", \"InternetService\", \"MultipleLines\",\\\n",
        "                    \"PhoneService\", \"MonthlyCharges\"])\n",
        "\n",
        "# distributing the data into independent and dependent variables:\n",
        "x=df[['SeniorCitizen', 'Partner', 'Dependents', 'tenure',\n",
        "       'OnlineSecurity', 'OnlineBackup', 'DeviceProtection', 'TechSupport',\n",
        "       'Contract', 'PaperlessBilling', 'PaymentMethod']]\n",
        "y=df[\"Churn\"]\n",
        "\n",
        "# splitting data into train/test\n",
        "x_train, x_test, y_train, y_test = train_test_split(x, y, test_size=0.3, random_state=0)"
      ],
      "metadata": {
        "id": "wGxezDeCKQGs"
      },
      "execution_count": 152,
      "outputs": []
    },
    {
      "cell_type": "code",
      "source": [
        "x_train.shape, y_train.shape"
      ],
      "metadata": {
        "id": "fVQ_P5uPr3cC",
        "outputId": "a169459d-08fc-47ba-f700-b3f3c38d433c",
        "colab": {
          "base_uri": "https://localhost:8080/"
        }
      },
      "execution_count": 153,
      "outputs": [
        {
          "output_type": "execute_result",
          "data": {
            "text/plain": [
              "((4930, 11), (4930,))"
            ]
          },
          "metadata": {},
          "execution_count": 153
        }
      ]
    },
    {
      "cell_type": "markdown",
      "source": [
        "# Testing our Logistic Regression model without regularization"
      ],
      "metadata": {
        "id": "KtbFqO8RriMN"
      }
    },
    {
      "cell_type": "code",
      "source": [
        "model = LogisticRegression()"
      ],
      "metadata": {
        "id": "tdeu1lvIrcmk"
      },
      "execution_count": 154,
      "outputs": []
    },
    {
      "cell_type": "code",
      "source": [
        "model.fit_data(np.array(x_train), np.array(y_train))"
      ],
      "metadata": {
        "id": "LCBKPJj2rqO9",
        "outputId": "7ed23b5e-516d-4567-ef40-c6c68b5fb1e7",
        "colab": {
          "base_uri": "https://localhost:8080/",
          "height": 489
        }
      },
      "execution_count": 155,
      "outputs": [
        {
          "output_type": "stream",
          "name": "stdout",
          "text": [
            "total number of iterations:  156\n"
          ]
        },
        {
          "output_type": "display_data",
          "data": {
            "text/plain": [
              "<Figure size 640x480 with 1 Axes>"
            ],
            "image/png": "[encoded data removed]"
          },
          "metadata": {}
        }
      ]
    },
    {
      "cell_type": "code",
      "source": [
        "y_hat = model.predict(np.array(x_test))"
      ],
      "metadata": {
        "id": "vtC0sa7FrtF5"
      },
      "execution_count": 156,
      "outputs": []
    },
    {
      "cell_type": "code",
      "source": [
        "from sklearn.metrics import accuracy_score, precision_score, recall_score, f1_score, confusion_matrix, classification_report\n",
        "import pandas as pd\n",
        "\n",
        "# Assuming y_test contains the true labels and y_hat contains the predicted labels\n",
        "# Replace y_test and y_hat with your actual test labels and predictions\n",
        "\n",
        "# Accuracy\n",
        "accuracy = accuracy_score(y_test, y_hat)\n",
        "print(f\"Accuracy: {accuracy:.2f}\")\n",
        "\n",
        "# Precision\n",
        "precision = precision_score(y_test, y_hat)\n",
        "print(f\"Precision: {precision:.2f}\")\n",
        "\n",
        "# Recall\n",
        "recall = recall_score(y_test, y_hat)\n",
        "print(f\"Recall: {recall:.2f}\")\n",
        "\n",
        "# F1 Score\n",
        "f1 = f1_score(y_test, y_hat)\n",
        "print(f\"F1 Score: {f1:.2f}\")\n",
        "\n",
        "# Confusion Matrix\n",
        "conf_matrix = confusion_matrix(y_test, y_hat)\n",
        "conf_matrix_df = pd.DataFrame(conf_matrix, index=['Actual 0', 'Actual 1'], columns=['Predicted 0', 'Predicted 1'])\n",
        "print(\"\\nConfusion Matrix:\")\n",
        "print(conf_matrix_df)\n",
        "\n",
        "# Detailed classification report\n",
        "print(\"\\nClassification Report:\")\n",
        "print(classification_report(y_test, y_hat))\n"
      ],
      "metadata": {
        "id": "pzU8_qPys-xs",
        "outputId": "3e86d8c8-f24f-4546-9f3b-df18bfe1a597",
        "colab": {
          "base_uri": "https://localhost:8080/"
        }
      },
      "execution_count": 157,
      "outputs": [
        {
          "output_type": "stream",
          "name": "stdout",
          "text": [
            "Accuracy: 0.74\n",
            "Precision: 0.50\n",
            "Recall: 0.51\n",
            "F1 Score: 0.51\n",
            "\n",
            "Confusion Matrix:\n",
            "          Predicted 0  Predicted 1\n",
            "Actual 0         1279          281\n",
            "Actual 1          269          284\n",
            "\n",
            "Classification Report:\n",
            "              precision    recall  f1-score   support\n",
            "\n",
            "           0       0.83      0.82      0.82      1560\n",
            "           1       0.50      0.51      0.51       553\n",
            "\n",
            "    accuracy                           0.74      2113\n",
            "   macro avg       0.66      0.67      0.67      2113\n",
            "weighted avg       0.74      0.74      0.74      2113\n",
            "\n"
          ]
        }
      ]
    },
    {
      "cell_type": "markdown",
      "source": [
        "Model did converge but still not the best results"
      ],
      "metadata": {
        "id": "A1E0s49e5Lsf"
      }
    },
    {
      "cell_type": "markdown",
      "source": [
        "## Logistic Regression with Regularization"
      ],
      "metadata": {
        "id": "tnUPpRLI5QOM"
      }
    },
    {
      "cell_type": "code",
      "source": [],
      "metadata": {
        "id": "tWHgRHi51wu6"
      },
      "execution_count": 124,
      "outputs": []
    }
  ]
}