{
  "nbformat": 4,
  "nbformat_minor": 0,
  "metadata": {
    "colab": {
      "provenance": [],
      "authorship_tag": "ABX9TyOGnTSWR/1jrgJZB4lQ51sQ",
      "include_colab_link": true
    },
    "kernelspec": {
      "name": "python3",
      "display_name": "Python 3"
    },
    "language_info": {
      "name": "python"
    }
  },
  "cells": [
    {
      "cell_type": "markdown",
      "metadata": {
        "id": "view-in-github",
        "colab_type": "text"
      },
      "source": [
        "<a href=\"https://colab.research.google.com/github/tselane2110/ml-algorithms-implemented/blob/main/PCA_Implementation.ipynb\" target=\"_parent\"><img src=\"https://colab.research.google.com/assets/colab-badge.svg\" alt=\"Open In Colab\"/></a>"
      ]
    },
    {
      "cell_type": "markdown",
      "source": [
        "# Implementing Principal Component Analysis (PCA)\n",
        "\n",
        "The steps involved are:\n",
        "\n",
        "1. Convert the given df into a numpy array (matrix).\n",
        "2. Perform mean-centralization on the resultant matrix.\n",
        "3. Create a covariance matrix\n",
        "4. Calculate the eigenvalue(s) \"lambda\" by solving the characterisitic polynomial :\n",
        "                      (A - (lambda * I))\n",
        "5. Sort the eigenvalues in desecending order. Choose the top 'z' number of eigenvalues where 'z' is the number of reduced dimensions (number of dimensions you wanted to reduced your initial dataset/dataframe into).\n",
        "5. Find the eigenvector(s) for the chosen 'z' number of eigenvalues by solving:\n",
        "                      A * V = lambda * V\n",
        "                 where :\n",
        "                       A -> covariance matrix\n",
        "                       V -> eigenvector to find\n",
        "                  lambda -> eigenvalue for the eigenvector V\n",
        "\n",
        "7. Find the project matrix Ap as:\n",
        "                      Ap = A*V\n",
        "                  where :\n",
        "                       V -> [V1/||V1|| V2/||V2|| ... Vn/||Vn||]\n",
        "               and ||V|| -> L2-norm of V\n",
        "            L2-norm of V -> sqrt(v1^2 + v2^2 + ... + vn^2)\n",
        "8. Convert Ap to a DataFrame-column\n",
        "9. Return the resultant Dataframe-column\n",
        "\n",
        "\n"
      ],
      "metadata": {
        "id": "4v-jnaqO4ffU"
      }
    },
    {
      "cell_type": "code",
      "execution_count": null,
      "metadata": {
        "id": "ycNzhIRK26Au"
      },
      "outputs": [],
      "source": [
        "import numpy\n",
        "from numpy.linalg import det\n",
        "import sympy as sp              # Symbolic calculation (using sympy for readability)\n",
        "\n",
        "def mean_centralize(X):\n",
        "  X -= X.mean(axis=0)\n",
        "  return X\n",
        "\n",
        "def get_eigenValues(A):\n",
        "  λ = sp.symbols('λ')\n",
        "  A_sym = sp.Matrix(A)\n",
        "  char_poly = (A_sym - λ*sp.eye(A.shape[0])).det()\n",
        "  print(\"Characteristic polynomial:\", char_poly)\n",
        "\n",
        "  # Solve for eigenvalues\n",
        "  eigenvalues = sp.solve(char_poly, λ)\n",
        "  print(\"Eigenvalues:\", eigenvalues)\n",
        "\n",
        "  return eigenvalues\n",
        "\n",
        "def calculate_eigenvectors(eigenvalues):\n",
        "  # Calculate eigenvectors\n",
        "\n",
        "\n",
        "def PCA(df, n):\n",
        "  \"\"\"\n",
        "  df -> input dataframe\n",
        "  n -> number of dimensions to reduce into\n",
        "  return -> reduced dataframe (df)\n",
        "  \"\"\"\n",
        "  # converting df to a numpy_array\n",
        "  X = df.to_numpy()\n",
        "\n",
        "  # mean-centralizin X\n",
        "  X_centered = mean_centralize(X)\n",
        "\n",
        "  # getting the covariance matrix\n",
        "  cov_matrix = np.cov(X_centered, rowvar=False)\n",
        "\n",
        "  # calculating eigenvalues:\n",
        "  eigenvalues = get_eigenValues(cov_matrix)\n",
        "\n",
        "  # sorting the eigenvalues in decending order\n",
        "  eigenvalues.sort()\n",
        "  eigenvalues = eigenvalues[::-1]  # in-place sort then reverse\n",
        "\n",
        "  # choosing 'n' number of highest eigenvalues to find their respective eigenvectors\n",
        "  chosen_eigenvalues = eigenvalues[:n]\n",
        "\n",
        "  # finding the eigenvectors for the chosen_eigenvalues\n",
        "  eigenvectors = calculate_eigenvectors(chosen_eigenvalues)\n",
        "\n",
        "\n",
        "\n"
      ]
    }
  ]
}