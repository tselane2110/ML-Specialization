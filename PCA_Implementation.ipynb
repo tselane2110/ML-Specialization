{
  "nbformat": 4,
  "nbformat_minor": 0,
  "metadata": {
    "colab": {
      "provenance": [],
      "authorship_tag": "ABX9TyOEXBWXNX2CF8bAwdzSDzwh",
      "include_colab_link": true
    },
    "kernelspec": {
      "name": "python3",
      "display_name": "Python 3"
    },
    "language_info": {
      "name": "python"
    }
  },
  "cells": [
    {
      "cell_type": "markdown",
      "metadata": {
        "id": "view-in-github",
        "colab_type": "text"
      },
      "source": [
        "<a href=\"https://colab.research.google.com/github/tselane2110/ml-algorithms-implemented/blob/main/PCA_Implementation.ipynb\" target=\"_parent\"><img src=\"https://colab.research.google.com/assets/colab-badge.svg\" alt=\"Open In Colab\"/></a>"
      ]
    },
    {
      "cell_type": "markdown",
      "source": [
        "# Implementing Principal Component Analysis (PCA)\n",
        "\n",
        "The steps involved are:\n",
        "\n",
        "1. Convert the given df into a numpy array (matrix).\n",
        "2. Perform mean-centralization on the resultant matrix.\n",
        "3. Create a covariance matrix\n",
        "4. Calculate the eigenvalue(s) \"lambda\" by solving the characterisitic polynomial :\n",
        "                      (A - (lambda * I))\n",
        "5. Find the eigenvector(s) by solving:\n",
        "                      A * V = lambda * V\n",
        "                 where :\n",
        "                       A -> covariance matrix\n",
        "                       V -> eigenvector to find\n",
        "                  lambda -> eigenvalue for the eigenvector V\n",
        "\n",
        "7. Find the project matrix Ap as:\n",
        "                      Ap = A*V\n",
        "                  where :\n",
        "                       V -> [V1/||V1|| V2/||V2|| ... Vn/||Vn||]\n",
        "               and ||V|| -> L2-norm of V\n",
        "            L2-norm of V -> sqrt(v1^2 + v2^2 + ... + vn^2)\n",
        "8. Convert Ap to a DataFrame-column\n",
        "9. Return the resultant Dataframe-column\n",
        "\n",
        "\n"
      ],
      "metadata": {
        "id": "4v-jnaqO4ffU"
      }
    },
    {
      "cell_type": "code",
      "execution_count": null,
      "metadata": {
        "id": "ycNzhIRK26Au"
      },
      "outputs": [],
      "source": [
        "import numpy\n",
        "\n",
        "def PCA(dataframe):\n",
        "  df = dataframe\n",
        "  df_new = df.to_numpy()\n",
        ""
      ]
    }
  ]
}