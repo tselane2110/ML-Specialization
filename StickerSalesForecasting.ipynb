{
  "metadata": {
    "kernelspec": {
      "language": "python",
      "display_name": "Python 3",
      "name": "python3"
    },
    "language_info": {
      "name": "python",
      "version": "3.10.12",
      "mimetype": "text/x-python",
      "codemirror_mode": {
        "name": "ipython",
        "version": 3
      },
      "pygments_lexer": "ipython3",
      "nbconvert_exporter": "python",
      "file_extension": ".py"
    },
    "kaggle": {
      "accelerator": "none",
      "dataSources": [
        {
          "sourceId": 85723,
          "databundleVersionId": 10652996,
          "sourceType": "competition"
        }
      ],
      "dockerImageVersionId": 30839,
      "isInternetEnabled": true,
      "language": "python",
      "sourceType": "notebook",
      "isGpuEnabled": false
    },
    "colab": {
      "name": "StickerSalesForecasting",
      "provenance": [],
      "include_colab_link": true
    }
  },
  "nbformat_minor": 0,
  "nbformat": 4,
  "cells": [
    {
      "cell_type": "markdown",
      "metadata": {
        "id": "view-in-github",
        "colab_type": "text"
      },
      "source": [
        "<a href=\"https://colab.research.google.com/github/tselane2110/ML-Specialization/blob/main/StickerSalesForecasting.ipynb\" target=\"_parent\"><img src=\"https://colab.research.google.com/assets/colab-badge.svg\" alt=\"Open In Colab\"/></a>"
      ]
    },
    {
      "source": [
        "# IMPORTANT: SOME KAGGLE DATA SOURCES ARE PRIVATE\n",
        "# RUN THIS CELL IN ORDER TO IMPORT YOUR KAGGLE DATA SOURCES.\n",
        "import kagglehub\n",
        "kagglehub.login()\n"
      ],
      "metadata": {
        "id": "NjAt597jfQEN"
      },
      "cell_type": "code",
      "outputs": [],
      "execution_count": null
    },
    {
      "source": [
        "# IMPORTANT: RUN THIS CELL IN ORDER TO IMPORT YOUR KAGGLE DATA SOURCES,\n",
        "# THEN FEEL FREE TO DELETE THIS CELL.\n",
        "# NOTE: THIS NOTEBOOK ENVIRONMENT DIFFERS FROM KAGGLE'S PYTHON\n",
        "# ENVIRONMENT SO THERE MAY BE MISSING LIBRARIES USED BY YOUR\n",
        "# NOTEBOOK.\n",
        "\n",
        "playground_series_s5e1_path = kagglehub.competition_download('playground-series-s5e1')\n",
        "\n",
        "print('Data source import complete.')\n"
      ],
      "metadata": {
        "id": "g_FRR0YofQER"
      },
      "cell_type": "code",
      "outputs": [],
      "execution_count": null
    },
    {
      "cell_type": "markdown",
      "source": [
        "## 1. Importing required libraries"
      ],
      "metadata": {
        "id": "qW3ZawiDfQES"
      }
    },
    {
      "cell_type": "code",
      "source": [
        "import pandas as pd\n",
        "import numpy as np"
      ],
      "metadata": {
        "trusted": true,
        "execution": {
          "iopub.status.busy": "2025-01-25T07:26:58.794341Z",
          "iopub.execute_input": "2025-01-25T07:26:58.794759Z",
          "iopub.status.idle": "2025-01-25T07:26:58.79893Z",
          "shell.execute_reply.started": "2025-01-25T07:26:58.794727Z",
          "shell.execute_reply": "2025-01-25T07:26:58.797966Z"
        },
        "id": "qxvZUMmafQET"
      },
      "outputs": [],
      "execution_count": null
    },
    {
      "cell_type": "code",
      "source": [
        "# getting the path to the files\n",
        "\n",
        "import os\n",
        "for dirname, _, filenames in os.walk('/kaggle/input'):\n",
        "    for filename in filenames:\n",
        "        print(os.path.join(dirname, filename))\n"
      ],
      "metadata": {
        "_uuid": "8f2839f25d086af736a60e9eeb907d3b93b6e0e5",
        "_cell_guid": "b1076dfc-b9ad-4769-8c92-a6c4dae69d19",
        "trusted": true,
        "execution": {
          "iopub.status.busy": "2025-01-25T07:26:58.950354Z",
          "iopub.execute_input": "2025-01-25T07:26:58.950716Z",
          "iopub.status.idle": "2025-01-25T07:26:58.958104Z",
          "shell.execute_reply.started": "2025-01-25T07:26:58.950661Z",
          "shell.execute_reply": "2025-01-25T07:26:58.957199Z"
        },
        "id": "M2tS6fEhfQEU",
        "outputId": "cadbb157-6919-4a6f-9b3c-98229dacee26"
      },
      "outputs": [
        {
          "name": "stdout",
          "text": "/kaggle/input/playground-series-s5e1/sample_submission.csv\n/kaggle/input/playground-series-s5e1/train.csv\n/kaggle/input/playground-series-s5e1/test.csv\n",
          "output_type": "stream"
        }
      ],
      "execution_count": null
    },
    {
      "cell_type": "markdown",
      "source": [
        "## 2. Importing Dataset"
      ],
      "metadata": {
        "id": "v3c2lqhgfQEV"
      }
    },
    {
      "cell_type": "code",
      "source": [
        "df = pd.read_csv(\"/kaggle/input/playground-series-s5e1/train.csv\")\n",
        "df.head()"
      ],
      "metadata": {
        "trusted": true,
        "execution": {
          "iopub.status.busy": "2025-01-25T07:26:59.2002Z",
          "iopub.execute_input": "2025-01-25T07:26:59.20054Z",
          "iopub.status.idle": "2025-01-25T07:26:59.433617Z",
          "shell.execute_reply.started": "2025-01-25T07:26:59.200512Z",
          "shell.execute_reply": "2025-01-25T07:26:59.432526Z"
        },
        "id": "8qcRrmCCfQEW",
        "outputId": "9428dc47-2dae-41bb-b5bd-b854f2543648"
      },
      "outputs": [
        {
          "name": "stderr",
          "text": "/usr/local/lib/python3.10/dist-packages/pandas/io/formats/format.py:1458: RuntimeWarning: invalid value encountered in greater\n  has_large_values = (abs_vals > 1e6).any()\n/usr/local/lib/python3.10/dist-packages/pandas/io/formats/format.py:1459: RuntimeWarning: invalid value encountered in less\n  has_small_values = ((abs_vals < 10 ** (-self.digits)) & (abs_vals > 0)).any()\n/usr/local/lib/python3.10/dist-packages/pandas/io/formats/format.py:1459: RuntimeWarning: invalid value encountered in greater\n  has_small_values = ((abs_vals < 10 ** (-self.digits)) & (abs_vals > 0)).any()\n",
          "output_type": "stream"
        },
        {
          "execution_count": 13,
          "output_type": "execute_result",
          "data": {
            "text/plain": "   id        date country              store             product  num_sold\n0   0  2010-01-01  Canada  Discount Stickers   Holographic Goose       NaN\n1   1  2010-01-01  Canada  Discount Stickers              Kaggle     973.0\n2   2  2010-01-01  Canada  Discount Stickers        Kaggle Tiers     906.0\n3   3  2010-01-01  Canada  Discount Stickers            Kerneler     423.0\n4   4  2010-01-01  Canada  Discount Stickers  Kerneler Dark Mode     491.0",
            "text/html": "<div>\n<style scoped>\n    .dataframe tbody tr th:only-of-type {\n        vertical-align: middle;\n    }\n\n    .dataframe tbody tr th {\n        vertical-align: top;\n    }\n\n    .dataframe thead th {\n        text-align: right;\n    }\n</style>\n<table border=\"1\" class=\"dataframe\">\n  <thead>\n    <tr style=\"text-align: right;\">\n      <th></th>\n      <th>id</th>\n      <th>date</th>\n      <th>country</th>\n      <th>store</th>\n      <th>product</th>\n      <th>num_sold</th>\n    </tr>\n  </thead>\n  <tbody>\n    <tr>\n      <th>0</th>\n      <td>0</td>\n      <td>2010-01-01</td>\n      <td>Canada</td>\n      <td>Discount Stickers</td>\n      <td>Holographic Goose</td>\n      <td>NaN</td>\n    </tr>\n    <tr>\n      <th>1</th>\n      <td>1</td>\n      <td>2010-01-01</td>\n      <td>Canada</td>\n      <td>Discount Stickers</td>\n      <td>Kaggle</td>\n      <td>973.0</td>\n    </tr>\n    <tr>\n      <th>2</th>\n      <td>2</td>\n      <td>2010-01-01</td>\n      <td>Canada</td>\n      <td>Discount Stickers</td>\n      <td>Kaggle Tiers</td>\n      <td>906.0</td>\n    </tr>\n    <tr>\n      <th>3</th>\n      <td>3</td>\n      <td>2010-01-01</td>\n      <td>Canada</td>\n      <td>Discount Stickers</td>\n      <td>Kerneler</td>\n      <td>423.0</td>\n    </tr>\n    <tr>\n      <th>4</th>\n      <td>4</td>\n      <td>2010-01-01</td>\n      <td>Canada</td>\n      <td>Discount Stickers</td>\n      <td>Kerneler Dark Mode</td>\n      <td>491.0</td>\n    </tr>\n  </tbody>\n</table>\n</div>"
          },
          "metadata": {}
        }
      ],
      "execution_count": null
    },
    {
      "cell_type": "markdown",
      "source": [
        "## 3. Performing Exploratory Data Analysis"
      ],
      "metadata": {
        "id": "BlTqrDD4fQEX"
      }
    },
    {
      "cell_type": "code",
      "source": [
        "df.describe()"
      ],
      "metadata": {
        "trusted": true,
        "execution": {
          "iopub.status.busy": "2025-01-25T07:26:59.46629Z",
          "iopub.execute_input": "2025-01-25T07:26:59.466861Z",
          "iopub.status.idle": "2025-01-25T07:26:59.495607Z",
          "shell.execute_reply.started": "2025-01-25T07:26:59.466821Z",
          "shell.execute_reply": "2025-01-25T07:26:59.494788Z"
        },
        "id": "r_-rNxnYfQEX",
        "outputId": "9af318f5-8d79-47a7-acc9-941d5c7b233e"
      },
      "outputs": [
        {
          "execution_count": 14,
          "output_type": "execute_result",
          "data": {
            "text/plain": "                  id       num_sold\ncount  230130.000000  221259.000000\nmean   115064.500000     752.527382\nstd     66432.953062     690.165445\nmin         0.000000       5.000000\n25%     57532.250000     219.000000\n50%    115064.500000     605.000000\n75%    172596.750000    1114.000000\nmax    230129.000000    5939.000000",
            "text/html": "<div>\n<style scoped>\n    .dataframe tbody tr th:only-of-type {\n        vertical-align: middle;\n    }\n\n    .dataframe tbody tr th {\n        vertical-align: top;\n    }\n\n    .dataframe thead th {\n        text-align: right;\n    }\n</style>\n<table border=\"1\" class=\"dataframe\">\n  <thead>\n    <tr style=\"text-align: right;\">\n      <th></th>\n      <th>id</th>\n      <th>num_sold</th>\n    </tr>\n  </thead>\n  <tbody>\n    <tr>\n      <th>count</th>\n      <td>230130.000000</td>\n      <td>221259.000000</td>\n    </tr>\n    <tr>\n      <th>mean</th>\n      <td>115064.500000</td>\n      <td>752.527382</td>\n    </tr>\n    <tr>\n      <th>std</th>\n      <td>66432.953062</td>\n      <td>690.165445</td>\n    </tr>\n    <tr>\n      <th>min</th>\n      <td>0.000000</td>\n      <td>5.000000</td>\n    </tr>\n    <tr>\n      <th>25%</th>\n      <td>57532.250000</td>\n      <td>219.000000</td>\n    </tr>\n    <tr>\n      <th>50%</th>\n      <td>115064.500000</td>\n      <td>605.000000</td>\n    </tr>\n    <tr>\n      <th>75%</th>\n      <td>172596.750000</td>\n      <td>1114.000000</td>\n    </tr>\n    <tr>\n      <th>max</th>\n      <td>230129.000000</td>\n      <td>5939.000000</td>\n    </tr>\n  </tbody>\n</table>\n</div>"
          },
          "metadata": {}
        }
      ],
      "execution_count": null
    },
    {
      "cell_type": "code",
      "source": [
        "df.columns"
      ],
      "metadata": {
        "trusted": true,
        "execution": {
          "iopub.status.busy": "2025-01-25T07:27:01.326781Z",
          "iopub.execute_input": "2025-01-25T07:27:01.327107Z",
          "iopub.status.idle": "2025-01-25T07:27:01.333264Z",
          "shell.execute_reply.started": "2025-01-25T07:27:01.327081Z",
          "shell.execute_reply": "2025-01-25T07:27:01.332193Z"
        },
        "id": "D-sMG7VrfQEY",
        "outputId": "98e41229-b8c2-4fc3-f7ff-abef9c2df68e"
      },
      "outputs": [
        {
          "execution_count": 15,
          "output_type": "execute_result",
          "data": {
            "text/plain": "Index(['id', 'date', 'country', 'store', 'product', 'num_sold'], dtype='object')"
          },
          "metadata": {}
        }
      ],
      "execution_count": null
    },
    {
      "cell_type": "code",
      "source": [
        "# checking for missing values\n",
        "print(df.isna())"
      ],
      "metadata": {
        "trusted": true,
        "execution": {
          "iopub.status.busy": "2025-01-25T07:27:46.203088Z",
          "iopub.execute_input": "2025-01-25T07:27:46.203454Z",
          "iopub.status.idle": "2025-01-25T07:27:46.257036Z",
          "shell.execute_reply.started": "2025-01-25T07:27:46.2034Z",
          "shell.execute_reply": "2025-01-25T07:27:46.255957Z"
        },
        "id": "RztV9oFofQEY",
        "outputId": "5c3d92a5-cb53-4004-b84e-83a048a73318"
      },
      "outputs": [
        {
          "name": "stdout",
          "text": "           id   date  country  store  product  num_sold\n0       False  False    False  False    False      True\n1       False  False    False  False    False     False\n2       False  False    False  False    False     False\n3       False  False    False  False    False     False\n4       False  False    False  False    False     False\n...       ...    ...      ...    ...      ...       ...\n230125  False  False    False  False    False     False\n230126  False  False    False  False    False     False\n230127  False  False    False  False    False     False\n230128  False  False    False  False    False     False\n230129  False  False    False  False    False     False\n\n[230130 rows x 6 columns]\n",
          "output_type": "stream"
        }
      ],
      "execution_count": null
    },
    {
      "cell_type": "code",
      "source": [
        "df[\"num_sold\"][0]"
      ],
      "metadata": {
        "trusted": true,
        "execution": {
          "iopub.status.busy": "2025-01-25T07:27:24.604145Z",
          "iopub.execute_input": "2025-01-25T07:27:24.604473Z",
          "iopub.status.idle": "2025-01-25T07:27:24.610967Z",
          "shell.execute_reply.started": "2025-01-25T07:27:24.604447Z",
          "shell.execute_reply": "2025-01-25T07:27:24.609892Z"
        },
        "id": "VFpyuvw5fQEY",
        "outputId": "9be8bd36-63a2-4f18-f685-aa99da4b9969"
      },
      "outputs": [
        {
          "execution_count": 17,
          "output_type": "execute_result",
          "data": {
            "text/plain": "nan"
          },
          "metadata": {}
        }
      ],
      "execution_count": null
    },
    {
      "cell_type": "code",
      "source": [
        "rows_with_nan = df[df.isna().any(axis=1)]\n",
        "rows_with_nan"
      ],
      "metadata": {
        "trusted": true,
        "execution": {
          "iopub.status.busy": "2025-01-25T07:31:40.420393Z",
          "iopub.execute_input": "2025-01-25T07:31:40.420858Z",
          "iopub.status.idle": "2025-01-25T07:31:40.487106Z",
          "shell.execute_reply.started": "2025-01-25T07:31:40.42082Z",
          "shell.execute_reply": "2025-01-25T07:31:40.486068Z"
        },
        "id": "yW5Db0TDfQEZ",
        "outputId": "ed391fae-dac5-4040-8d17-d6bb4a266af5"
      },
      "outputs": [
        {
          "name": "stderr",
          "text": "/usr/local/lib/python3.10/dist-packages/pandas/io/formats/format.py:1458: RuntimeWarning: invalid value encountered in greater\n  has_large_values = (abs_vals > 1e6).any()\n/usr/local/lib/python3.10/dist-packages/pandas/io/formats/format.py:1459: RuntimeWarning: invalid value encountered in less\n  has_small_values = ((abs_vals < 10 ** (-self.digits)) & (abs_vals > 0)).any()\n/usr/local/lib/python3.10/dist-packages/pandas/io/formats/format.py:1459: RuntimeWarning: invalid value encountered in greater\n  has_small_values = ((abs_vals < 10 ** (-self.digits)) & (abs_vals > 0)).any()\n",
          "output_type": "stream"
        },
        {
          "execution_count": 24,
          "output_type": "execute_result",
          "data": {
            "text/plain": "            id        date country              store            product  \\\n0            0  2010-01-01  Canada  Discount Stickers  Holographic Goose   \n45          45  2010-01-01   Kenya  Discount Stickers  Holographic Goose   \n90          90  2010-01-02  Canada  Discount Stickers  Holographic Goose   \n135        135  2010-01-02   Kenya  Discount Stickers  Holographic Goose   \n180        180  2010-01-03  Canada  Discount Stickers  Holographic Goose   \n...        ...         ...     ...                ...                ...   \n229905  229905  2016-12-29   Kenya  Discount Stickers  Holographic Goose   \n229950  229950  2016-12-30  Canada  Discount Stickers  Holographic Goose   \n229995  229995  2016-12-30   Kenya  Discount Stickers  Holographic Goose   \n230040  230040  2016-12-31  Canada  Discount Stickers  Holographic Goose   \n230085  230085  2016-12-31   Kenya  Discount Stickers  Holographic Goose   \n\n        num_sold  \n0            NaN  \n45           NaN  \n90           NaN  \n135          NaN  \n180          NaN  \n...          ...  \n229905       NaN  \n229950       NaN  \n229995       NaN  \n230040       NaN  \n230085       NaN  \n\n[8871 rows x 6 columns]",
            "text/html": "<div>\n<style scoped>\n    .dataframe tbody tr th:only-of-type {\n        vertical-align: middle;\n    }\n\n    .dataframe tbody tr th {\n        vertical-align: top;\n    }\n\n    .dataframe thead th {\n        text-align: right;\n    }\n</style>\n<table border=\"1\" class=\"dataframe\">\n  <thead>\n    <tr style=\"text-align: right;\">\n      <th></th>\n      <th>id</th>\n      <th>date</th>\n      <th>country</th>\n      <th>store</th>\n      <th>product</th>\n      <th>num_sold</th>\n    </tr>\n  </thead>\n  <tbody>\n    <tr>\n      <th>0</th>\n      <td>0</td>\n      <td>2010-01-01</td>\n      <td>Canada</td>\n      <td>Discount Stickers</td>\n      <td>Holographic Goose</td>\n      <td>NaN</td>\n    </tr>\n    <tr>\n      <th>45</th>\n      <td>45</td>\n      <td>2010-01-01</td>\n      <td>Kenya</td>\n      <td>Discount Stickers</td>\n      <td>Holographic Goose</td>\n      <td>NaN</td>\n    </tr>\n    <tr>\n      <th>90</th>\n      <td>90</td>\n      <td>2010-01-02</td>\n      <td>Canada</td>\n      <td>Discount Stickers</td>\n      <td>Holographic Goose</td>\n      <td>NaN</td>\n    </tr>\n    <tr>\n      <th>135</th>\n      <td>135</td>\n      <td>2010-01-02</td>\n      <td>Kenya</td>\n      <td>Discount Stickers</td>\n      <td>Holographic Goose</td>\n      <td>NaN</td>\n    </tr>\n    <tr>\n      <th>180</th>\n      <td>180</td>\n      <td>2010-01-03</td>\n      <td>Canada</td>\n      <td>Discount Stickers</td>\n      <td>Holographic Goose</td>\n      <td>NaN</td>\n    </tr>\n    <tr>\n      <th>...</th>\n      <td>...</td>\n      <td>...</td>\n      <td>...</td>\n      <td>...</td>\n      <td>...</td>\n      <td>...</td>\n    </tr>\n    <tr>\n      <th>229905</th>\n      <td>229905</td>\n      <td>2016-12-29</td>\n      <td>Kenya</td>\n      <td>Discount Stickers</td>\n      <td>Holographic Goose</td>\n      <td>NaN</td>\n    </tr>\n    <tr>\n      <th>229950</th>\n      <td>229950</td>\n      <td>2016-12-30</td>\n      <td>Canada</td>\n      <td>Discount Stickers</td>\n      <td>Holographic Goose</td>\n      <td>NaN</td>\n    </tr>\n    <tr>\n      <th>229995</th>\n      <td>229995</td>\n      <td>2016-12-30</td>\n      <td>Kenya</td>\n      <td>Discount Stickers</td>\n      <td>Holographic Goose</td>\n      <td>NaN</td>\n    </tr>\n    <tr>\n      <th>230040</th>\n      <td>230040</td>\n      <td>2016-12-31</td>\n      <td>Canada</td>\n      <td>Discount Stickers</td>\n      <td>Holographic Goose</td>\n      <td>NaN</td>\n    </tr>\n    <tr>\n      <th>230085</th>\n      <td>230085</td>\n      <td>2016-12-31</td>\n      <td>Kenya</td>\n      <td>Discount Stickers</td>\n      <td>Holographic Goose</td>\n      <td>NaN</td>\n    </tr>\n  </tbody>\n</table>\n<p>8871 rows × 6 columns</p>\n</div>"
          },
          "metadata": {}
        }
      ],
      "execution_count": null
    },
    {
      "cell_type": "code",
      "source": [
        "# checking for unique values for countries\n",
        "countries = list(df.country.unique())\n",
        "countries"
      ],
      "metadata": {
        "trusted": true,
        "execution": {
          "iopub.status.busy": "2025-01-25T07:40:50.571335Z",
          "iopub.execute_input": "2025-01-25T07:40:50.571663Z",
          "iopub.status.idle": "2025-01-25T07:40:50.589562Z",
          "shell.execute_reply.started": "2025-01-25T07:40:50.571635Z",
          "shell.execute_reply": "2025-01-25T07:40:50.588465Z"
        },
        "id": "NywzxKDOfQEZ",
        "outputId": "71335d83-c5f6-45ed-e512-cbde86993d24"
      },
      "outputs": [
        {
          "execution_count": 34,
          "output_type": "execute_result",
          "data": {
            "text/plain": "['Canada', 'Finland', 'Italy', 'Kenya', 'Norway', 'Singapore']"
          },
          "metadata": {}
        }
      ],
      "execution_count": null
    },
    {
      "cell_type": "code",
      "source": [
        "# unique values for the type of stores\n",
        "df.store.unique()"
      ],
      "metadata": {
        "trusted": true,
        "execution": {
          "iopub.status.busy": "2025-01-25T07:33:34.455112Z",
          "iopub.execute_input": "2025-01-25T07:33:34.455468Z",
          "iopub.status.idle": "2025-01-25T07:33:34.475891Z",
          "shell.execute_reply.started": "2025-01-25T07:33:34.455439Z",
          "shell.execute_reply": "2025-01-25T07:33:34.474798Z"
        },
        "id": "LX6sARttfQEZ",
        "outputId": "7342b16e-a439-4733-c5d5-a026f4041525"
      },
      "outputs": [
        {
          "execution_count": 26,
          "output_type": "execute_result",
          "data": {
            "text/plain": "array(['Discount Stickers', 'Stickers for Less', 'Premium Sticker Mart'],\n      dtype=object)"
          },
          "metadata": {}
        }
      ],
      "execution_count": null
    },
    {
      "cell_type": "code",
      "source": [
        "# unique values for the sticker/product sold\n",
        "df['product'].unique()"
      ],
      "metadata": {
        "trusted": true,
        "execution": {
          "iopub.status.busy": "2025-01-25T07:34:32.559111Z",
          "iopub.execute_input": "2025-01-25T07:34:32.559467Z",
          "iopub.status.idle": "2025-01-25T07:34:32.578073Z",
          "shell.execute_reply.started": "2025-01-25T07:34:32.559436Z",
          "shell.execute_reply": "2025-01-25T07:34:32.577125Z"
        },
        "id": "x41IeXGffQEZ",
        "outputId": "e4153fe6-d24b-40f4-ce42-3ce7fe72357d"
      },
      "outputs": [
        {
          "execution_count": 28,
          "output_type": "execute_result",
          "data": {
            "text/plain": "array(['Holographic Goose', 'Kaggle', 'Kaggle Tiers', 'Kerneler',\n       'Kerneler Dark Mode'], dtype=object)"
          },
          "metadata": {}
        }
      ],
      "execution_count": null
    },
    {
      "cell_type": "code",
      "source": [
        "# checking if we have any record of the number of stickers sold\n",
        "# for the discount stickers\n",
        "\n",
        "discount_sticker = df[df['store'] == 'Discount Stickers']\n",
        "discount_sticker"
      ],
      "metadata": {
        "trusted": true,
        "execution": {
          "iopub.status.busy": "2025-01-25T07:36:00.550261Z",
          "iopub.execute_input": "2025-01-25T07:36:00.550603Z",
          "iopub.status.idle": "2025-01-25T07:36:00.589839Z",
          "shell.execute_reply.started": "2025-01-25T07:36:00.550571Z",
          "shell.execute_reply": "2025-01-25T07:36:00.588764Z"
        },
        "id": "ueyA0XznfQEc",
        "outputId": "dbd970e1-1aaa-47a6-e1a6-ea93df7e93c7"
      },
      "outputs": [
        {
          "name": "stderr",
          "text": "/usr/local/lib/python3.10/dist-packages/pandas/io/formats/format.py:1458: RuntimeWarning: invalid value encountered in greater\n  has_large_values = (abs_vals > 1e6).any()\n/usr/local/lib/python3.10/dist-packages/pandas/io/formats/format.py:1459: RuntimeWarning: invalid value encountered in less\n  has_small_values = ((abs_vals < 10 ** (-self.digits)) & (abs_vals > 0)).any()\n/usr/local/lib/python3.10/dist-packages/pandas/io/formats/format.py:1459: RuntimeWarning: invalid value encountered in greater\n  has_small_values = ((abs_vals < 10 ** (-self.digits)) & (abs_vals > 0)).any()\n",
          "output_type": "stream"
        },
        {
          "execution_count": 30,
          "output_type": "execute_result",
          "data": {
            "text/plain": "            id        date    country              store             product  \\\n0            0  2010-01-01     Canada  Discount Stickers   Holographic Goose   \n1            1  2010-01-01     Canada  Discount Stickers              Kaggle   \n2            2  2010-01-01     Canada  Discount Stickers        Kaggle Tiers   \n3            3  2010-01-01     Canada  Discount Stickers            Kerneler   \n4            4  2010-01-01     Canada  Discount Stickers  Kerneler Dark Mode   \n...        ...         ...        ...                ...                 ...   \n230115  230115  2016-12-31  Singapore  Discount Stickers   Holographic Goose   \n230116  230116  2016-12-31  Singapore  Discount Stickers              Kaggle   \n230117  230117  2016-12-31  Singapore  Discount Stickers        Kaggle Tiers   \n230118  230118  2016-12-31  Singapore  Discount Stickers            Kerneler   \n230119  230119  2016-12-31  Singapore  Discount Stickers  Kerneler Dark Mode   \n\n        num_sold  \n0            NaN  \n1          973.0  \n2          906.0  \n3          423.0  \n4          491.0  \n...          ...  \n230115     200.0  \n230116    1259.0  \n230117     931.0  \n230118     556.0  \n230119     637.0  \n\n[76710 rows x 6 columns]",
            "text/html": "<div>\n<style scoped>\n    .dataframe tbody tr th:only-of-type {\n        vertical-align: middle;\n    }\n\n    .dataframe tbody tr th {\n        vertical-align: top;\n    }\n\n    .dataframe thead th {\n        text-align: right;\n    }\n</style>\n<table border=\"1\" class=\"dataframe\">\n  <thead>\n    <tr style=\"text-align: right;\">\n      <th></th>\n      <th>id</th>\n      <th>date</th>\n      <th>country</th>\n      <th>store</th>\n      <th>product</th>\n      <th>num_sold</th>\n    </tr>\n  </thead>\n  <tbody>\n    <tr>\n      <th>0</th>\n      <td>0</td>\n      <td>2010-01-01</td>\n      <td>Canada</td>\n      <td>Discount Stickers</td>\n      <td>Holographic Goose</td>\n      <td>NaN</td>\n    </tr>\n    <tr>\n      <th>1</th>\n      <td>1</td>\n      <td>2010-01-01</td>\n      <td>Canada</td>\n      <td>Discount Stickers</td>\n      <td>Kaggle</td>\n      <td>973.0</td>\n    </tr>\n    <tr>\n      <th>2</th>\n      <td>2</td>\n      <td>2010-01-01</td>\n      <td>Canada</td>\n      <td>Discount Stickers</td>\n      <td>Kaggle Tiers</td>\n      <td>906.0</td>\n    </tr>\n    <tr>\n      <th>3</th>\n      <td>3</td>\n      <td>2010-01-01</td>\n      <td>Canada</td>\n      <td>Discount Stickers</td>\n      <td>Kerneler</td>\n      <td>423.0</td>\n    </tr>\n    <tr>\n      <th>4</th>\n      <td>4</td>\n      <td>2010-01-01</td>\n      <td>Canada</td>\n      <td>Discount Stickers</td>\n      <td>Kerneler Dark Mode</td>\n      <td>491.0</td>\n    </tr>\n    <tr>\n      <th>...</th>\n      <td>...</td>\n      <td>...</td>\n      <td>...</td>\n      <td>...</td>\n      <td>...</td>\n      <td>...</td>\n    </tr>\n    <tr>\n      <th>230115</th>\n      <td>230115</td>\n      <td>2016-12-31</td>\n      <td>Singapore</td>\n      <td>Discount Stickers</td>\n      <td>Holographic Goose</td>\n      <td>200.0</td>\n    </tr>\n    <tr>\n      <th>230116</th>\n      <td>230116</td>\n      <td>2016-12-31</td>\n      <td>Singapore</td>\n      <td>Discount Stickers</td>\n      <td>Kaggle</td>\n      <td>1259.0</td>\n    </tr>\n    <tr>\n      <th>230117</th>\n      <td>230117</td>\n      <td>2016-12-31</td>\n      <td>Singapore</td>\n      <td>Discount Stickers</td>\n      <td>Kaggle Tiers</td>\n      <td>931.0</td>\n    </tr>\n    <tr>\n      <th>230118</th>\n      <td>230118</td>\n      <td>2016-12-31</td>\n      <td>Singapore</td>\n      <td>Discount Stickers</td>\n      <td>Kerneler</td>\n      <td>556.0</td>\n    </tr>\n    <tr>\n      <th>230119</th>\n      <td>230119</td>\n      <td>2016-12-31</td>\n      <td>Singapore</td>\n      <td>Discount Stickers</td>\n      <td>Kerneler Dark Mode</td>\n      <td>637.0</td>\n    </tr>\n  </tbody>\n</table>\n<p>76710 rows × 6 columns</p>\n</div>"
          },
          "metadata": {}
        }
      ],
      "execution_count": null
    },
    {
      "cell_type": "markdown",
      "source": [
        "### - Analyzing the rows with NaN values"
      ],
      "metadata": {
        "id": "2KZcymLqfQEc"
      }
    },
    {
      "cell_type": "code",
      "source": [
        "rows_with_nan"
      ],
      "metadata": {
        "trusted": true,
        "execution": {
          "iopub.status.busy": "2025-01-25T07:38:11.146447Z",
          "iopub.execute_input": "2025-01-25T07:38:11.14686Z",
          "iopub.status.idle": "2025-01-25T07:38:11.160069Z",
          "shell.execute_reply.started": "2025-01-25T07:38:11.146824Z",
          "shell.execute_reply": "2025-01-25T07:38:11.158917Z"
        },
        "id": "6Li7Lr29fQEc",
        "outputId": "31c22cf4-7454-48f9-d6c2-7945ed970225"
      },
      "outputs": [
        {
          "name": "stderr",
          "text": "/usr/local/lib/python3.10/dist-packages/pandas/io/formats/format.py:1458: RuntimeWarning: invalid value encountered in greater\n  has_large_values = (abs_vals > 1e6).any()\n/usr/local/lib/python3.10/dist-packages/pandas/io/formats/format.py:1459: RuntimeWarning: invalid value encountered in less\n  has_small_values = ((abs_vals < 10 ** (-self.digits)) & (abs_vals > 0)).any()\n/usr/local/lib/python3.10/dist-packages/pandas/io/formats/format.py:1459: RuntimeWarning: invalid value encountered in greater\n  has_small_values = ((abs_vals < 10 ** (-self.digits)) & (abs_vals > 0)).any()\n",
          "output_type": "stream"
        },
        {
          "execution_count": 33,
          "output_type": "execute_result",
          "data": {
            "text/plain": "            id        date country              store            product  \\\n0            0  2010-01-01  Canada  Discount Stickers  Holographic Goose   \n45          45  2010-01-01   Kenya  Discount Stickers  Holographic Goose   \n90          90  2010-01-02  Canada  Discount Stickers  Holographic Goose   \n135        135  2010-01-02   Kenya  Discount Stickers  Holographic Goose   \n180        180  2010-01-03  Canada  Discount Stickers  Holographic Goose   \n...        ...         ...     ...                ...                ...   \n229905  229905  2016-12-29   Kenya  Discount Stickers  Holographic Goose   \n229950  229950  2016-12-30  Canada  Discount Stickers  Holographic Goose   \n229995  229995  2016-12-30   Kenya  Discount Stickers  Holographic Goose   \n230040  230040  2016-12-31  Canada  Discount Stickers  Holographic Goose   \n230085  230085  2016-12-31   Kenya  Discount Stickers  Holographic Goose   \n\n        num_sold  \n0            NaN  \n45           NaN  \n90           NaN  \n135          NaN  \n180          NaN  \n...          ...  \n229905       NaN  \n229950       NaN  \n229995       NaN  \n230040       NaN  \n230085       NaN  \n\n[8871 rows x 6 columns]",
            "text/html": "<div>\n<style scoped>\n    .dataframe tbody tr th:only-of-type {\n        vertical-align: middle;\n    }\n\n    .dataframe tbody tr th {\n        vertical-align: top;\n    }\n\n    .dataframe thead th {\n        text-align: right;\n    }\n</style>\n<table border=\"1\" class=\"dataframe\">\n  <thead>\n    <tr style=\"text-align: right;\">\n      <th></th>\n      <th>id</th>\n      <th>date</th>\n      <th>country</th>\n      <th>store</th>\n      <th>product</th>\n      <th>num_sold</th>\n    </tr>\n  </thead>\n  <tbody>\n    <tr>\n      <th>0</th>\n      <td>0</td>\n      <td>2010-01-01</td>\n      <td>Canada</td>\n      <td>Discount Stickers</td>\n      <td>Holographic Goose</td>\n      <td>NaN</td>\n    </tr>\n    <tr>\n      <th>45</th>\n      <td>45</td>\n      <td>2010-01-01</td>\n      <td>Kenya</td>\n      <td>Discount Stickers</td>\n      <td>Holographic Goose</td>\n      <td>NaN</td>\n    </tr>\n    <tr>\n      <th>90</th>\n      <td>90</td>\n      <td>2010-01-02</td>\n      <td>Canada</td>\n      <td>Discount Stickers</td>\n      <td>Holographic Goose</td>\n      <td>NaN</td>\n    </tr>\n    <tr>\n      <th>135</th>\n      <td>135</td>\n      <td>2010-01-02</td>\n      <td>Kenya</td>\n      <td>Discount Stickers</td>\n      <td>Holographic Goose</td>\n      <td>NaN</td>\n    </tr>\n    <tr>\n      <th>180</th>\n      <td>180</td>\n      <td>2010-01-03</td>\n      <td>Canada</td>\n      <td>Discount Stickers</td>\n      <td>Holographic Goose</td>\n      <td>NaN</td>\n    </tr>\n    <tr>\n      <th>...</th>\n      <td>...</td>\n      <td>...</td>\n      <td>...</td>\n      <td>...</td>\n      <td>...</td>\n      <td>...</td>\n    </tr>\n    <tr>\n      <th>229905</th>\n      <td>229905</td>\n      <td>2016-12-29</td>\n      <td>Kenya</td>\n      <td>Discount Stickers</td>\n      <td>Holographic Goose</td>\n      <td>NaN</td>\n    </tr>\n    <tr>\n      <th>229950</th>\n      <td>229950</td>\n      <td>2016-12-30</td>\n      <td>Canada</td>\n      <td>Discount Stickers</td>\n      <td>Holographic Goose</td>\n      <td>NaN</td>\n    </tr>\n    <tr>\n      <th>229995</th>\n      <td>229995</td>\n      <td>2016-12-30</td>\n      <td>Kenya</td>\n      <td>Discount Stickers</td>\n      <td>Holographic Goose</td>\n      <td>NaN</td>\n    </tr>\n    <tr>\n      <th>230040</th>\n      <td>230040</td>\n      <td>2016-12-31</td>\n      <td>Canada</td>\n      <td>Discount Stickers</td>\n      <td>Holographic Goose</td>\n      <td>NaN</td>\n    </tr>\n    <tr>\n      <th>230085</th>\n      <td>230085</td>\n      <td>2016-12-31</td>\n      <td>Kenya</td>\n      <td>Discount Stickers</td>\n      <td>Holographic Goose</td>\n      <td>NaN</td>\n    </tr>\n  </tbody>\n</table>\n<p>8871 rows × 6 columns</p>\n</div>"
          },
          "metadata": {}
        }
      ],
      "execution_count": null
    },
    {
      "cell_type": "markdown",
      "source": [
        "25.94% of our data has NaN values for the ```num_sold``` column."
      ],
      "metadata": {
        "id": "4K3c2OCLfQEc"
      }
    },
    {
      "cell_type": "code",
      "source": [
        "# counting the values for each country\n",
        "\n",
        "count_countries_nan = {}\n",
        "for i in countries:\n",
        "    count_countries_nan[i] = rows_with_nan[rows_with_nan[\"country\"] == i].count()\n",
        "\n",
        "print(count_countries_nan)"
      ],
      "metadata": {
        "trusted": true,
        "execution": {
          "iopub.status.busy": "2025-01-25T07:50:14.795227Z",
          "iopub.execute_input": "2025-01-25T07:50:14.795634Z",
          "iopub.status.idle": "2025-01-25T07:50:14.822347Z",
          "shell.execute_reply.started": "2025-01-25T07:50:14.795596Z",
          "shell.execute_reply": "2025-01-25T07:50:14.821313Z"
        },
        "id": "dmE_DG7ufQEd",
        "outputId": "190ec161-46ab-403d-c7a7-4ec7d0a0b073"
      },
      "outputs": [
        {
          "name": "stdout",
          "text": "{'Canada': id          4246\ndate        4246\ncountry     4246\nstore       4246\nproduct     4246\nnum_sold       0\ndtype: int64, 'Finland': id          0\ndate        0\ncountry     0\nstore       0\nproduct     0\nnum_sold    0\ndtype: int64, 'Italy': id          0\ndate        0\ncountry     0\nstore       0\nproduct     0\nnum_sold    0\ndtype: int64, 'Kenya': id          4625\ndate        4625\ncountry     4625\nstore       4625\nproduct     4625\nnum_sold       0\ndtype: int64, 'Norway': id          0\ndate        0\ncountry     0\nstore       0\nproduct     0\nnum_sold    0\ndtype: int64, 'Singapore': id          0\ndate        0\ncountry     0\nstore       0\nproduct     0\nnum_sold    0\ndtype: int64}\n",
          "output_type": "stream"
        }
      ],
      "execution_count": null
    },
    {
      "cell_type": "markdown",
      "source": [
        "* Canada has 4246 missing values for ```num_sold```\n",
        "* Kenya has 4625 missing values for ```num_sold```"
      ],
      "metadata": {
        "id": "RCLFSkPvfQEd"
      }
    },
    {
      "cell_type": "code",
      "source": [
        "# analyzing missing values for Canada"
      ],
      "metadata": {
        "trusted": true,
        "execution": {
          "iopub.status.busy": "2025-01-25T07:50:45.414327Z",
          "iopub.execute_input": "2025-01-25T07:50:45.414782Z",
          "iopub.status.idle": "2025-01-25T07:50:45.419112Z",
          "shell.execute_reply.started": "2025-01-25T07:50:45.414743Z",
          "shell.execute_reply": "2025-01-25T07:50:45.418003Z"
        },
        "id": "I8e-0y7sfQEd"
      },
      "outputs": [],
      "execution_count": null
    },
    {
      "cell_type": "code",
      "source": [
        "# analyzing missing values for Kenya"
      ],
      "metadata": {
        "trusted": true,
        "id": "WRepJbE8fQEd"
      },
      "outputs": [],
      "execution_count": null
    }
  ]
}